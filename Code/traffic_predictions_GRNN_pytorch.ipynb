{
 "cells": [
  {
   "cell_type": "code",
   "execution_count": 1,
   "metadata": {},
   "outputs": [],
   "source": [
    "import pandas as pd\n",
    "import numpy as np\n",
    "import torch\n",
    "import networkx as nx\n",
    "from sklearn.preprocessing import LabelEncoder, MinMaxScaler"
   ]
  },
  {
   "cell_type": "markdown",
   "metadata": {},
   "source": [
    "## 1. Tiền xử lý dữ liệu"
   ]
  },
  {
   "cell_type": "code",
   "execution_count": 2,
   "metadata": {},
   "outputs": [],
   "source": [
    "# Đọc từng file từ thư mục MXH_Dataset\n",
    "train_df = pd.read_csv(\"../Dataset/train.csv\")\n",
    "segment_status_df = pd.read_csv(\"../Dataset/segment_status.csv\")\n"
   ]
  },
  {
   "cell_type": "code",
   "execution_count": 3,
   "metadata": {},
   "outputs": [
    {
     "name": "stdout",
     "output_type": "stream",
     "text": [
      "segment_status: <bound method DataFrame.info of          _id                updated_at  segment_id  velocity\n",
      "0          0  2020-07-03T14:55:31.869Z       24845        20\n",
      "1          1  2020-07-03T15:02:56.048Z       33923        10\n",
      "2          2  2020-07-04T08:15:52.696Z       33824         5\n",
      "3          3  2020-07-04T08:15:59.903Z       33824         5\n",
      "4          4  2020-07-04T08:16:08.201Z       33824         5\n",
      "...      ...                       ...         ...       ...\n",
      "90933  90933  2021-04-22T06:52:39.280Z       52247         1\n",
      "90934  90934  2021-04-22T06:52:52.501Z       52247         1\n",
      "90935  90935  2021-04-22T06:53:02.335Z       52247         1\n",
      "90936  90936  2021-04-22T06:53:14.294Z       52247         1\n",
      "90937  90937  2021-04-22T06:53:27.300Z       52247         1\n",
      "\n",
      "[90938 rows x 4 columns]>\n",
      "train: <bound method DataFrame.info of          _id  segment_id        date  weekday        period LOS   s_node_id  \\\n",
      "0          0          26  2021-04-16        4   period_0_30   A   366428456   \n",
      "1          1          33  2020-08-02        6  period_23_30   C   366469460   \n",
      "2          2          33  2020-08-03        0   period_0_00   D   366469460   \n",
      "3          3          67  2021-03-09        1   period_9_30   B   366403668   \n",
      "4          4          67  2021-03-23        1   period_9_30   B   366403668   \n",
      "...      ...         ...         ...      ...           ...  ..         ...   \n",
      "33436  33436       84529  2021-01-05        1   period_8_00   F   411918572   \n",
      "33437  33437       84533  2021-01-09        5  period_13_30   F  4597281310   \n",
      "33438  33438       84533  2021-04-22        3   period_5_00   F  4597281310   \n",
      "33439  33439       84534  2021-01-09        5  period_13_30   D   411918528   \n",
      "33440  33440       84535  2021-01-09        5  period_13_30   F  5140843585   \n",
      "\n",
      "        e_node_id  length  street_id  max_velocity  street_level  \\\n",
      "0       366416066     116   32575820           NaN             4   \n",
      "1      3792257828      26   32575862           NaN             3   \n",
      "2      3792257828      26   32575862           NaN             3   \n",
      "3      5755066033       7   32575862           NaN             3   \n",
      "4      5755066033       7   32575862           NaN             3   \n",
      "...           ...     ...        ...           ...           ...   \n",
      "33436  1226517262      13  654864528           NaN             2   \n",
      "33437   411918528     126  654864530           NaN             4   \n",
      "33438   411918528     126  654864530           NaN             4   \n",
      "33439   411925985      89  654864530           NaN             4   \n",
      "33440  6150226443     139  656562463           NaN             4   \n",
      "\n",
      "                street_name   street_type  long_snode  lat_snode  long_enode  \\\n",
      "0             Nguyễn Văn Bá      tertiary  106.768732  10.841506  106.769254   \n",
      "1                Đường số 5     secondary  106.761957  10.878650  106.762143   \n",
      "2                Đường số 5     secondary  106.761957  10.878650  106.762143   \n",
      "3                Đường số 5     secondary  106.768412  10.880817  106.768461   \n",
      "4                Đường số 5     secondary  106.768412  10.880817  106.768461   \n",
      "...                     ...           ...         ...        ...         ...   \n",
      "33436  Nguyễn Thị Minh Khai       primary  106.704503  10.789614  106.704584   \n",
      "33437     Nguyễn Bỉnh Khiêm      tertiary  106.704986  10.787267  106.704149   \n",
      "33438     Nguyễn Bỉnh Khiêm      tertiary  106.704986  10.787267  106.704149   \n",
      "33439     Nguyễn Bỉnh Khiêm      tertiary  106.704149  10.788051  106.703549   \n",
      "33440                   NaN  unclassified  106.828885  10.694142  106.827709   \n",
      "\n",
      "       lat_enode  \n",
      "0      10.842422  \n",
      "1      10.878808  \n",
      "2      10.878808  \n",
      "3      10.880771  \n",
      "4      10.880771  \n",
      "...          ...  \n",
      "33436  10.789702  \n",
      "33437  10.788051  \n",
      "33438  10.788051  \n",
      "33439  10.788604  \n",
      "33440  10.693657  \n",
      "\n",
      "[33441 rows x 18 columns]>\n"
     ]
    }
   ],
   "source": [
    "# Kiểm tra số dòng, số cột của từng file\n",
    "for name, df in [(\"segment_status\", segment_status_df), \n",
    "                 (\"train\", train_df)]:\n",
    "    print(f\"{name}: {df.info}\")"
   ]
  },
  {
   "cell_type": "markdown",
   "metadata": {},
   "source": [
    "### 1.1 Xử lý dữ liệu thiếu"
   ]
  },
  {
   "cell_type": "code",
   "execution_count": 4,
   "metadata": {},
   "outputs": [
    {
     "name": "stdout",
     "output_type": "stream",
     "text": [
      "Missing values in train_df:\n",
      " _id                 0\n",
      "segment_id          0\n",
      "date                0\n",
      "weekday             0\n",
      "period              0\n",
      "LOS                 0\n",
      "s_node_id           0\n",
      "e_node_id           0\n",
      "length              0\n",
      "street_id           0\n",
      "max_velocity    28495\n",
      "street_level        0\n",
      "street_name         1\n",
      "street_type         0\n",
      "long_snode          0\n",
      "lat_snode           0\n",
      "long_enode          0\n",
      "lat_enode           0\n",
      "dtype: int64\n"
     ]
    }
   ],
   "source": [
    "print(\"Missing values in train_df:\\n\", train_df.isnull().sum())"
   ]
  },
  {
   "cell_type": "code",
   "execution_count": 5,
   "metadata": {},
   "outputs": [
    {
     "name": "stdout",
     "output_type": "stream",
     "text": [
      "Missing values in train_df:\n",
      " _id             0\n",
      "segment_id      0\n",
      "date            0\n",
      "weekday         0\n",
      "period          0\n",
      "LOS             0\n",
      "s_node_id       0\n",
      "e_node_id       0\n",
      "length          0\n",
      "street_id       0\n",
      "max_velocity    0\n",
      "street_level    0\n",
      "street_name     0\n",
      "street_type     0\n",
      "long_snode      0\n",
      "lat_snode       0\n",
      "long_enode      0\n",
      "lat_enode       0\n",
      "dtype: int64\n"
     ]
    }
   ],
   "source": [
    "# Xử lý giá trị thiếu\n",
    "train_df['max_velocity'] = train_df['max_velocity'].fillna(train_df['max_velocity'].mean())\n",
    "train_df['street_name'] = train_df['street_name'].fillna('Unknown')\n",
    "\n",
    "print(\"Missing values in train_df:\\n\", train_df.isnull().sum())\n"
   ]
  },
  {
   "cell_type": "code",
   "execution_count": 6,
   "metadata": {},
   "outputs": [],
   "source": [
    "# Chuyển đổi thời gian\n",
    "train_df['date'] = pd.to_datetime(train_df['date'])\n",
    "segment_status_df['updated_at'] = pd.to_datetime(segment_status_df['updated_at'])\n",
    "train_df = train_df.sort_values('date')"
   ]
  },
  {
   "cell_type": "markdown",
   "metadata": {},
   "source": [
    "### 1.2 Chuẩn hóa cột LOS"
   ]
  },
  {
   "cell_type": "code",
   "execution_count": 7,
   "metadata": {},
   "outputs": [],
   "source": [
    "le = LabelEncoder()\n",
    "train_df['LOS_encoded'] = le.fit_transform(train_df['LOS'])\n",
    "scaler = MinMaxScaler()\n",
    "train_df['LOS_norm'] = scaler.fit_transform(train_df[['LOS_encoded']])"
   ]
  },
  {
   "cell_type": "markdown",
   "metadata": {},
   "source": [
    "### 1.3  Tạo đặc trưng nút"
   ]
  },
  {
   "cell_type": "code",
   "execution_count": 15,
   "metadata": {},
   "outputs": [],
   "source": [
    "edge_index = train_df[['s_node_id', 'e_node_id', 'segment_id']].drop_duplicates().dropna().astype(int)\n",
    "# Trước khi tạo edge_index_torch\n",
    "node_ids = sorted(set(edge_index['s_node_id']).union(edge_index['e_node_id']))\n",
    "node_id_to_index = {node_id: idx for idx, node_id in enumerate(node_ids)}\n",
    "num_nodes = len(node_ids)\n",
    "\n",
    "# Cập nhật edge_index với chỉ số mới\n",
    "edge_index['s_node_idx'] = edge_index['s_node_id'].map(node_id_to_index)\n",
    "edge_index['e_node_idx'] = edge_index['e_node_id'].map(node_id_to_index)\n",
    "edge_index_torch = torch.tensor(edge_index[['s_node_idx', 'e_node_idx']].T.values, dtype=torch.int64)\n",
    "\n",
    "# Tính số nút\n",
    "num_nodes = len(set(edge_index['s_node_id']).union(edge_index['e_node_id']))\n",
    "\n",
    "# Tạo đặc trưng nút\n",
    "node_degrees = pd.concat([\n",
    "    edge_index['s_node_id'].value_counts(),\n",
    "    edge_index['e_node_id'].value_counts()\n",
    "]).groupby(level=0).sum().reindex(range(num_nodes), fill_value=0).values\n",
    "\n",
    "node_features = []\n",
    "for node_id in range(num_nodes):\n",
    "    connected_edges = edge_index[\n",
    "        (edge_index['s_node_id'] == node_id) | (edge_index['e_node_id'] == node_id)\n",
    "    ]\n",
    "    segment_ids = connected_edges['segment_id']\n",
    "    if len(segment_ids) > 0:\n",
    "        segment_data = train_df[train_df['segment_id'].isin(segment_ids)]\n",
    "        avg_length = segment_data['length'].mean() if 'length' in segment_data else 0\n",
    "        avg_velocity = segment_data['velocity'].mean() if 'velocity' in segment_data else 0\n",
    "    else:\n",
    "        avg_length, avg_velocity = 0, 0\n",
    "    node_features.append([node_degrees[node_id], avg_length, avg_velocity])\n",
    "\n",
    "node_features = torch.tensor(node_features, dtype=torch.float32)"
   ]
  },
  {
   "cell_type": "markdown",
   "metadata": {},
   "source": [
    "### 1.4 Merge 2 file segment_status và train"
   ]
  },
  {
   "cell_type": "code",
   "execution_count": 9,
   "metadata": {},
   "outputs": [],
   "source": [
    "# Hàm convert period (vd: \"period_14_30\") thành timedelta\n",
    "def period_to_time(period_str):\n",
    "    try:\n",
    "        _, hour_str, min_str = period_str.split(\"_\")\n",
    "        hour = int(hour_str)\n",
    "        minute = int(min_str)\n",
    "        return pd.to_timedelta(f\"{hour}:{minute}:00\")\n",
    "    except:\n",
    "        return pd.NaT\n",
    "\n",
    "# Apply và tạo cột thời gian đầy đủ\n",
    "train_df['time_delta'] = train_df['period'].apply(period_to_time)\n",
    "train_df['date'] = pd.to_datetime(train_df['date']) + train_df['time_delta']\n",
    "\n",
    "# Xoá cột phụ nếu muốn\n",
    "train_df.drop(columns='time_delta', inplace=True)\n",
    "\n",
    "# Chuyển 'date' và 'updated_at' về datetime\n",
    "train_df['date'] = pd.to_datetime(train_df['date']).dt.tz_localize(None)\n",
    "segment_status_df['updated_at'] = pd.to_datetime(segment_status_df['updated_at']).dt.tz_localize(None)\n",
    "\n",
    "# Sort trước khi dùng merge_asof\n",
    "train = train_df.sort_values(by='date')\n",
    "segment_status = segment_status_df.sort_values(by='updated_at')\n",
    "\n",
    "# Merge gần đúng theo thời gian, trong cùng segment_id\n",
    "merged_df = pd.merge_asof(\n",
    "    train,\n",
    "    segment_status,\n",
    "    by='segment_id',\n",
    "    left_on='date',\n",
    "    right_on='updated_at',\n",
    "    direction='nearest',  # hoặc 'backward' nếu bạn chỉ muốn dùng dữ liệu trước đó\n",
    "    tolerance=pd.Timedelta('30min')  # chỉ chấp nhận khớp nếu lệch thời gian <= 30 phút\n",
    ")\n"
   ]
  },
  {
   "cell_type": "markdown",
   "metadata": {},
   "source": [
    "### 1.5 Tạo pivot table cho LOS_norm và velocity"
   ]
  },
  {
   "cell_type": "code",
   "execution_count": 16,
   "metadata": {},
   "outputs": [
    {
     "name": "stderr",
     "output_type": "stream",
     "text": [
      "C:\\Users\\ASUS\\AppData\\Local\\Temp\\ipykernel_17560\\865394265.py:7: FutureWarning: DataFrame.fillna with 'method' is deprecated and will raise in a future version. Use obj.ffill() or obj.bfill() instead.\n",
      "  ).fillna(method='ffill', axis=1).fillna(method='bfill', axis=1).sort_index(axis=1)\n"
     ]
    }
   ],
   "source": [
    "# Tạo los_pivot\n",
    "los_pivot = train_df.pivot_table(\n",
    "    index='segment_id',\n",
    "    columns='date',\n",
    "    values='LOS_norm',\n",
    "    aggfunc='mean'\n",
    ").fillna(method='ffill', axis=1).fillna(method='bfill', axis=1).sort_index(axis=1)"
   ]
  },
  {
   "cell_type": "markdown",
   "metadata": {},
   "source": [
    "### 1.6 Tạo danh sách data object"
   ]
  },
  {
   "cell_type": "code",
   "execution_count": null,
   "metadata": {},
   "outputs": [
    {
     "name": "stdout",
     "output_type": "stream",
     "text": [
      "Data: DataBatch(x=[11314, 3], edge_index=[2, 10027], edge_attr=[10027, 1], y=[10027, 1], batch=[11314], ptr=[2])\n"
     ]
    },
    {
     "name": "stderr",
     "output_type": "stream",
     "text": [
      "C:\\Users\\ASUS\\AppData\\Local\\Packages\\PythonSoftwareFoundation.Python.3.11_qbz5n2kfra8p0\\LocalCache\\local-packages\\Python311\\site-packages\\torch_geometric\\deprecation.py:26: UserWarning: 'data.DataLoader' is deprecated, use 'loader.DataLoader' instead\n",
      "  warnings.warn(out)\n"
     ]
    }
   ],
   "source": [
    "from torch_geometric.data import Data, DataLoader\n",
    "# Tạo danh sách Data objects\n",
    "data_list = []\n",
    "for date in los_pivot.columns:\n",
    "    edge_features = []\n",
    "    targets = []\n",
    "    for _, row in edge_index.iterrows():\n",
    "        segment_id = row['segment_id']\n",
    "        if segment_id in los_pivot.index:\n",
    "            los = los_pivot.loc[segment_id, date]\n",
    "            edge_features.append([los])\n",
    "            targets.append([los])\n",
    "        else:\n",
    "            edge_features.append([0])\n",
    "            targets.append([0])\n",
    "    edge_features = torch.tensor(edge_features, dtype=torch.float32)\n",
    "    targets = torch.tensor(targets, dtype=torch.float32)\n",
    "    data = Data(\n",
    "        x=node_features,\n",
    "        edge_index=edge_index_torch,\n",
    "        edge_attr=edge_features,\n",
    "        y=targets\n",
    "    )\n",
    "    data_list.append(data)\n",
    "\n",
    "# Tạo DataLoader\n",
    "loader = DataLoader(data_list, batch_size=4, shuffle=False)\n",
    "\n",
    "# Kiểm tra DataLoader\n",
    "for data in loader:\n",
    "    print(f\"Data: {data}\")\n",
    "    break"
   ]
  },
  {
   "cell_type": "markdown",
   "metadata": {},
   "source": [
    "## 2. Định nghĩa mô hình GRNN"
   ]
  },
  {
   "cell_type": "code",
   "execution_count": 20,
   "metadata": {},
   "outputs": [],
   "source": [
    "from torch_geometric.nn import GCNConv\n",
    "import torch.nn as nn\n",
    "\n",
    "class GRNN(nn.Module):\n",
    "    def __init__(self, node_features_dim, hidden_dim, out_dim):\n",
    "        super(GRNN, self).__init__()\n",
    "        self.gcn = GCNConv(node_features_dim, hidden_dim)\n",
    "        self.rnn = nn.GRU(hidden_dim, hidden_dim, batch_first=True)\n",
    "        self.fc = nn.Linear(hidden_dim, out_dim)\n",
    "\n",
    "    def forward(self, data_list):\n",
    "        outputs = []\n",
    "        h = None\n",
    "        for data in data_list:\n",
    "            x, edge_index, edge_attr = data.x, data.edge_index, data.edge_attr\n",
    "            x = torch.relu(self.gcn(x, edge_index, edge_attr))\n",
    "            x = x.unsqueeze(0)  # [1, num_nodes, hidden_dim]\n",
    "            x, h = self.rnn(x, h)\n",
    "            x = x.squeeze(0)  # [num_nodes, hidden_dim]\n",
    "            out = self.fc(x)  # [num_nodes, out_dim]\n",
    "            outputs.append(out[data.edge_index[0]])  # Dự đoán cho cạnh\n",
    "        return outputs\n",
    "\n",
    "# Khởi tạo mô hình\n",
    "model = GRNN(node_features_dim=3, hidden_dim=32, out_dim=1)\n",
    "optimizer = torch.optim.Adam(model.parameters(), lr=0.01)\n",
    "criterion = nn.MSELoss()"
   ]
  },
  {
   "cell_type": "markdown",
   "metadata": {},
   "source": [
    "## 3. Huấn luyện mô hình"
   ]
  },
  {
   "cell_type": "code",
   "execution_count": 21,
   "metadata": {},
   "outputs": [
    {
     "name": "stdout",
     "output_type": "stream",
     "text": [
      "Epoch 1, Loss: 0.12195290588453168\n",
      "Epoch 2, Loss: 0.11983358572985305\n"
     ]
    },
    {
     "ename": "KeyboardInterrupt",
     "evalue": "",
     "output_type": "error",
     "traceback": [
      "\u001b[1;31m---------------------------------------------------------------------------\u001b[0m",
      "\u001b[1;31mKeyboardInterrupt\u001b[0m                         Traceback (most recent call last)",
      "Cell \u001b[1;32mIn[21], line 9\u001b[0m\n\u001b[0;32m      7\u001b[0m outputs \u001b[38;5;241m=\u001b[39m model([data])\n\u001b[0;32m      8\u001b[0m loss \u001b[38;5;241m=\u001b[39m criterion(outputs[\u001b[38;5;241m0\u001b[39m], data\u001b[38;5;241m.\u001b[39my)\n\u001b[1;32m----> 9\u001b[0m \u001b[43mloss\u001b[49m\u001b[38;5;241;43m.\u001b[39;49m\u001b[43mbackward\u001b[49m\u001b[43m(\u001b[49m\u001b[43m)\u001b[49m\n\u001b[0;32m     10\u001b[0m optimizer\u001b[38;5;241m.\u001b[39mstep()\n\u001b[0;32m     11\u001b[0m total_loss \u001b[38;5;241m+\u001b[39m\u001b[38;5;241m=\u001b[39m loss\u001b[38;5;241m.\u001b[39mitem()\n",
      "File \u001b[1;32m~\\AppData\\Local\\Packages\\PythonSoftwareFoundation.Python.3.11_qbz5n2kfra8p0\\LocalCache\\local-packages\\Python311\\site-packages\\torch\\_tensor.py:487\u001b[0m, in \u001b[0;36mTensor.backward\u001b[1;34m(self, gradient, retain_graph, create_graph, inputs)\u001b[0m\n\u001b[0;32m    477\u001b[0m \u001b[38;5;28;01mif\u001b[39;00m has_torch_function_unary(\u001b[38;5;28mself\u001b[39m):\n\u001b[0;32m    478\u001b[0m     \u001b[38;5;28;01mreturn\u001b[39;00m handle_torch_function(\n\u001b[0;32m    479\u001b[0m         Tensor\u001b[38;5;241m.\u001b[39mbackward,\n\u001b[0;32m    480\u001b[0m         (\u001b[38;5;28mself\u001b[39m,),\n\u001b[1;32m   (...)\u001b[0m\n\u001b[0;32m    485\u001b[0m         inputs\u001b[38;5;241m=\u001b[39minputs,\n\u001b[0;32m    486\u001b[0m     )\n\u001b[1;32m--> 487\u001b[0m \u001b[43mtorch\u001b[49m\u001b[38;5;241;43m.\u001b[39;49m\u001b[43mautograd\u001b[49m\u001b[38;5;241;43m.\u001b[39;49m\u001b[43mbackward\u001b[49m\u001b[43m(\u001b[49m\n\u001b[0;32m    488\u001b[0m \u001b[43m    \u001b[49m\u001b[38;5;28;43mself\u001b[39;49m\u001b[43m,\u001b[49m\u001b[43m \u001b[49m\u001b[43mgradient\u001b[49m\u001b[43m,\u001b[49m\u001b[43m \u001b[49m\u001b[43mretain_graph\u001b[49m\u001b[43m,\u001b[49m\u001b[43m \u001b[49m\u001b[43mcreate_graph\u001b[49m\u001b[43m,\u001b[49m\u001b[43m \u001b[49m\u001b[43minputs\u001b[49m\u001b[38;5;241;43m=\u001b[39;49m\u001b[43minputs\u001b[49m\n\u001b[0;32m    489\u001b[0m \u001b[43m\u001b[49m\u001b[43m)\u001b[49m\n",
      "File \u001b[1;32m~\\AppData\\Local\\Packages\\PythonSoftwareFoundation.Python.3.11_qbz5n2kfra8p0\\LocalCache\\local-packages\\Python311\\site-packages\\torch\\autograd\\__init__.py:200\u001b[0m, in \u001b[0;36mbackward\u001b[1;34m(tensors, grad_tensors, retain_graph, create_graph, grad_variables, inputs)\u001b[0m\n\u001b[0;32m    195\u001b[0m     retain_graph \u001b[38;5;241m=\u001b[39m create_graph\n\u001b[0;32m    197\u001b[0m \u001b[38;5;66;03m# The reason we repeat same the comment below is that\u001b[39;00m\n\u001b[0;32m    198\u001b[0m \u001b[38;5;66;03m# some Python versions print out the first line of a multi-line function\u001b[39;00m\n\u001b[0;32m    199\u001b[0m \u001b[38;5;66;03m# calls in the traceback and some print out the last line\u001b[39;00m\n\u001b[1;32m--> 200\u001b[0m \u001b[43mVariable\u001b[49m\u001b[38;5;241;43m.\u001b[39;49m\u001b[43m_execution_engine\u001b[49m\u001b[38;5;241;43m.\u001b[39;49m\u001b[43mrun_backward\u001b[49m\u001b[43m(\u001b[49m\u001b[43m  \u001b[49m\u001b[38;5;66;43;03m# Calls into the C++ engine to run the backward pass\u001b[39;49;00m\n\u001b[0;32m    201\u001b[0m \u001b[43m    \u001b[49m\u001b[43mtensors\u001b[49m\u001b[43m,\u001b[49m\u001b[43m \u001b[49m\u001b[43mgrad_tensors_\u001b[49m\u001b[43m,\u001b[49m\u001b[43m \u001b[49m\u001b[43mretain_graph\u001b[49m\u001b[43m,\u001b[49m\u001b[43m \u001b[49m\u001b[43mcreate_graph\u001b[49m\u001b[43m,\u001b[49m\u001b[43m \u001b[49m\u001b[43minputs\u001b[49m\u001b[43m,\u001b[49m\n\u001b[0;32m    202\u001b[0m \u001b[43m    \u001b[49m\u001b[43mallow_unreachable\u001b[49m\u001b[38;5;241;43m=\u001b[39;49m\u001b[38;5;28;43;01mTrue\u001b[39;49;00m\u001b[43m,\u001b[49m\u001b[43m \u001b[49m\u001b[43maccumulate_grad\u001b[49m\u001b[38;5;241;43m=\u001b[39;49m\u001b[38;5;28;43;01mTrue\u001b[39;49;00m\u001b[43m)\u001b[49m\n",
      "\u001b[1;31mKeyboardInterrupt\u001b[0m: "
     ]
    }
   ],
   "source": [
    "# Huấn luyện\n",
    "model.train()\n",
    "for epoch in range(20):\n",
    "    total_loss = 0\n",
    "    for data in loader:\n",
    "        optimizer.zero_grad()\n",
    "        outputs = model([data])\n",
    "        loss = criterion(outputs[0], data.y)\n",
    "        loss.backward()\n",
    "        optimizer.step()\n",
    "        total_loss += loss.item()\n",
    "    print(f\"Epoch {epoch+1}, Loss: {total_loss / len(loader)}\")"
   ]
  },
  {
   "cell_type": "code",
   "execution_count": null,
   "metadata": {},
   "outputs": [],
   "source": [
    "# Dự đoán\n",
    "model.eval()\n",
    "predictions = []\n",
    "with torch.no_grad():\n",
    "    for data in loader:\n",
    "        outputs = model([data])\n",
    "        predictions.append(outputs[0].cpu().numpy())"
   ]
  },
  {
   "cell_type": "code",
   "execution_count": null,
   "metadata": {},
   "outputs": [],
   "source": [
    "# Đánh giá\n",
    "targets = [data.y.cpu().numpy() for data in loader]\n",
    "from sklearn.metrics import mean_squared_error\n",
    "mse = mean_squared_error(np.concatenate(targets), np.concatenate(predictions))\n",
    "print(f\"Test MSE: {mse}\")"
   ]
  },
  {
   "cell_type": "markdown",
   "metadata": {},
   "source": [
    "### 1.6 Dùng LOS làm output"
   ]
  },
  {
   "cell_type": "code",
   "execution_count": null,
   "metadata": {},
   "outputs": [
    {
     "name": "stdout",
     "output_type": "stream",
     "text": [
      "Snapshot 0: (10027, 1)\n",
      "Snapshot 1: (10027, 1)\n",
      "Snapshot 2: (10027, 1)\n",
      "Snapshot 3: (10027, 1)\n",
      "Snapshot 4: (10027, 1)\n",
      "Snapshot 5: (10027, 1)\n",
      "Snapshot 6: (10027, 1)\n",
      "Snapshot 7: (10027, 1)\n",
      "Snapshot 8: (10027, 1)\n",
      "Snapshot 9: (10027, 1)\n",
      "Snapshot 10: (10027, 1)\n",
      "Snapshot 11: (10027, 1)\n",
      "Snapshot 12: (10027, 1)\n",
      "Snapshot 13: (10027, 1)\n",
      "Snapshot 14: (10027, 1)\n",
      "Snapshot 15: (10027, 1)\n",
      "Snapshot 16: (10027, 1)\n",
      "Snapshot 17: (10027, 1)\n",
      "Snapshot 18: (10027, 1)\n",
      "Snapshot 19: (10027, 1)\n",
      "Snapshot 20: (10027, 1)\n",
      "Snapshot 21: (10027, 1)\n",
      "Snapshot 22: (10027, 1)\n",
      "Snapshot 23: (10027, 1)\n",
      "Snapshot 24: (10027, 1)\n",
      "Snapshot 25: (10027, 1)\n",
      "Snapshot 26: (10027, 1)\n",
      "Snapshot 27: (10027, 1)\n",
      "Snapshot 28: (10027, 1)\n",
      "Snapshot 29: (10027, 1)\n",
      "Snapshot 30: (10027, 1)\n",
      "Snapshot 31: (10027, 1)\n",
      "Snapshot 32: (10027, 1)\n",
      "Snapshot 33: (10027, 1)\n",
      "Snapshot 34: (10027, 1)\n",
      "Snapshot 35: (10027, 1)\n",
      "Snapshot 36: (10027, 1)\n",
      "Snapshot 37: (10027, 1)\n",
      "Snapshot 38: (10027, 1)\n",
      "Snapshot 39: (10027, 1)\n",
      "Snapshot 40: (10027, 1)\n",
      "Snapshot 41: (10027, 1)\n",
      "Snapshot 42: (10027, 1)\n",
      "Snapshot 43: (10027, 1)\n",
      "Snapshot 44: (10027, 1)\n",
      "Snapshot 45: (10027, 1)\n",
      "Snapshot 46: (10027, 1)\n",
      "Snapshot 47: (10027, 1)\n",
      "Snapshot 48: (10027, 1)\n",
      "Snapshot 49: (10027, 1)\n",
      "Snapshot 50: (10027, 1)\n",
      "Snapshot 51: (10027, 1)\n",
      "Snapshot 52: (10027, 1)\n",
      "Snapshot 53: (10027, 1)\n",
      "Snapshot 54: (10027, 1)\n",
      "Snapshot 55: (10027, 1)\n",
      "Snapshot 56: (10027, 1)\n",
      "Snapshot 57: (10027, 1)\n",
      "Snapshot 58: (10027, 1)\n",
      "Snapshot 59: (10027, 1)\n",
      "Snapshot 60: (10027, 1)\n",
      "Snapshot 61: (10027, 1)\n",
      "Snapshot 62: (10027, 1)\n",
      "Snapshot 63: (10027, 1)\n",
      "Snapshot 64: (10027, 1)\n",
      "Snapshot 65: (10027, 1)\n",
      "Snapshot 66: (10027, 1)\n",
      "Snapshot 67: (10027, 1)\n",
      "Snapshot 68: (10027, 1)\n",
      "Snapshot 69: (10027, 1)\n",
      "Snapshot 70: (10027, 1)\n",
      "Snapshot 71: (10027, 1)\n",
      "Snapshot 72: (10027, 1)\n",
      "Snapshot 73: (10027, 1)\n",
      "Snapshot 74: (10027, 1)\n",
      "Snapshot 75: (10027, 1)\n",
      "Snapshot 76: (10027, 1)\n",
      "Snapshot 77: (10027, 1)\n",
      "Snapshot 78: (10027, 1)\n",
      "Snapshot 79: (10027, 1)\n",
      "Snapshot 80: (10027, 1)\n",
      "Snapshot 81: (10027, 1)\n",
      "Snapshot 82: (10027, 1)\n",
      "Snapshot 83: (10027, 1)\n",
      "Snapshot 84: (10027, 1)\n",
      "Snapshot 85: (10027, 1)\n",
      "Snapshot 86: (10027, 1)\n",
      "Snapshot 87: (10027, 1)\n",
      "Snapshot 88: (10027, 1)\n",
      "Snapshot 89: (10027, 1)\n",
      "Snapshot 90: (10027, 1)\n",
      "Snapshot 91: (10027, 1)\n",
      "Snapshot 92: (10027, 1)\n",
      "Snapshot 93: (10027, 1)\n",
      "Snapshot 94: (10027, 1)\n",
      "Snapshot 95: (10027, 1)\n",
      "Snapshot 96: (10027, 1)\n",
      "Snapshot 97: (10027, 1)\n",
      "Snapshot 98: (10027, 1)\n",
      "Snapshot 99: (10027, 1)\n",
      "Snapshot 100: (10027, 1)\n",
      "Snapshot 101: (10027, 1)\n",
      "Snapshot 102: (10027, 1)\n",
      "Snapshot 103: (10027, 1)\n",
      "Snapshot 104: (10027, 1)\n",
      "Snapshot 105: (10027, 1)\n",
      "Snapshot 106: (10027, 1)\n",
      "Snapshot 107: (10027, 1)\n",
      "Snapshot 108: (10027, 1)\n",
      "Snapshot 109: (10027, 1)\n",
      "Snapshot 110: (10027, 1)\n",
      "Snapshot 111: (10027, 1)\n",
      "Snapshot 112: (10027, 1)\n",
      "Snapshot 113: (10027, 1)\n",
      "Snapshot 114: (10027, 1)\n",
      "Snapshot 115: (10027, 1)\n",
      "Snapshot 116: (10027, 1)\n",
      "Snapshot 117: (10027, 1)\n",
      "Snapshot 118: (10027, 1)\n",
      "Snapshot 119: (10027, 1)\n",
      "Snapshot 120: (10027, 1)\n",
      "Snapshot 121: (10027, 1)\n",
      "Edge index shape: torch.Size([2, 10027])\n"
     ]
    }
   ],
   "source": [
    "# Kiểm tra kích thước của từng phần tử trong edge_features_sequence\n",
    "for i, edge_features in enumerate(edge_features_sequence):\n",
    "    print(f\"Snapshot {i}: {edge_features.shape}\")\n",
    "\n",
    "# Kiểm tra kích thước của edge_index_torch\n",
    "print(f\"Edge index shape: {edge_index_torch.shape}\")"
   ]
  },
  {
   "cell_type": "code",
   "execution_count": null,
   "metadata": {},
   "outputs": [
    {
     "name": "stdout",
     "output_type": "stream",
     "text": [
      "LOS Pivot shape: (10027, 122)\n",
      "Edge Index DataFrame:\n",
      "        s_node_id   e_node_id  segment_id\n",
      "13056  5769406275  5769406276       33923\n",
      "9598   2409410635  3771416347       24845\n",
      "23197  5772558121  5772558074       56816\n",
      "12978  2233730990  2299409160       33824\n",
      "5508    366383168  5243849435       15412\n"
     ]
    }
   ],
   "source": [
    "# Kiểm tra dữ liệu đầu vào\n",
    "print(\"LOS Pivot shape:\", los_pivot.shape)\n",
    "print(\"Edge Index DataFrame:\")\n",
    "print(edge_index.head())"
   ]
  },
  {
   "cell_type": "code",
   "execution_count": null,
   "metadata": {},
   "outputs": [
    {
     "name": "stderr",
     "output_type": "stream",
     "text": [
      "C:\\Users\\ASUS\\AppData\\Local\\Temp\\ipykernel_7052\\1155704792.py:10: UserWarning: To copy construct from a tensor, it is recommended to use sourceTensor.clone().detach() or sourceTensor.clone().detach().requires_grad_(True), rather than torch.tensor(sourceTensor).\n",
      "  features=[torch.tensor(node_features, dtype=torch.float32)] * len(edge_features_sequence),\n"
     ]
    },
    {
     "ename": "AttributeError",
     "evalue": "'torch.dtype' object has no attribute 'kind'",
     "output_type": "error",
     "traceback": [
      "\u001b[1;31m---------------------------------------------------------------------------\u001b[0m",
      "\u001b[1;31mAttributeError\u001b[0m                            Traceback (most recent call last)",
      "Cell \u001b[1;32mIn[12], line 15\u001b[0m\n\u001b[0;32m      7\u001b[0m dataset \u001b[38;5;241m=\u001b[39m DynamicGraphTemporalSignal(\n\u001b[0;32m      8\u001b[0m     edge_indices\u001b[38;5;241m=\u001b[39m[edge_index_torch] \u001b[38;5;241m*\u001b[39m \u001b[38;5;28mlen\u001b[39m(edge_features_sequence),\n\u001b[0;32m      9\u001b[0m     edge_weights\u001b[38;5;241m=\u001b[39medge_features_sequence,\n\u001b[0;32m     10\u001b[0m     features\u001b[38;5;241m=\u001b[39m[torch\u001b[38;5;241m.\u001b[39mtensor(node_features, dtype\u001b[38;5;241m=\u001b[39mtorch\u001b[38;5;241m.\u001b[39mfloat32)] \u001b[38;5;241m*\u001b[39m \u001b[38;5;28mlen\u001b[39m(edge_features_sequence),\n\u001b[0;32m     11\u001b[0m     targets\u001b[38;5;241m=\u001b[39medge_features_sequence  \u001b[38;5;66;03m# Dùng edge_features_sequence làm output\u001b[39;00m\n\u001b[0;32m     12\u001b[0m )\n\u001b[0;32m     14\u001b[0m \u001b[38;5;66;03m# Kiểm tra snapshot\u001b[39;00m\n\u001b[1;32m---> 15\u001b[0m snapshot \u001b[38;5;241m=\u001b[39m \u001b[38;5;28;43mnext\u001b[39;49m\u001b[43m(\u001b[49m\u001b[38;5;28;43miter\u001b[39;49m\u001b[43m(\u001b[49m\u001b[43mdataset\u001b[49m\u001b[43m)\u001b[49m\u001b[43m)\u001b[49m\n\u001b[0;32m     16\u001b[0m \u001b[38;5;28mprint\u001b[39m(\u001b[38;5;124m\"\u001b[39m\u001b[38;5;124mEdge Index:\u001b[39m\u001b[38;5;130;01m\\n\u001b[39;00m\u001b[38;5;124m\"\u001b[39m, snapshot\u001b[38;5;241m.\u001b[39medge_index)\n\u001b[0;32m     17\u001b[0m \u001b[38;5;28mprint\u001b[39m(\u001b[38;5;124m\"\u001b[39m\u001b[38;5;124mEdge Weight:\u001b[39m\u001b[38;5;130;01m\\n\u001b[39;00m\u001b[38;5;124m\"\u001b[39m, snapshot\u001b[38;5;241m.\u001b[39medge_weight)\n",
      "File \u001b[1;32m~\\AppData\\Local\\Packages\\PythonSoftwareFoundation.Python.3.11_qbz5n2kfra8p0\\LocalCache\\local-packages\\Python311\\site-packages\\torch_geometric_temporal\\signal\\dynamic_graph_temporal_signal.py:130\u001b[0m, in \u001b[0;36mDynamicGraphTemporalSignal.__next__\u001b[1;34m(self)\u001b[0m\n\u001b[0;32m    128\u001b[0m \u001b[38;5;28;01mdef\u001b[39;00m\u001b[38;5;250m \u001b[39m\u001b[38;5;21m__next__\u001b[39m(\u001b[38;5;28mself\u001b[39m):\n\u001b[0;32m    129\u001b[0m     \u001b[38;5;28;01mif\u001b[39;00m \u001b[38;5;28mself\u001b[39m\u001b[38;5;241m.\u001b[39mt \u001b[38;5;241m<\u001b[39m \u001b[38;5;28mlen\u001b[39m(\u001b[38;5;28mself\u001b[39m\u001b[38;5;241m.\u001b[39mfeatures):\n\u001b[1;32m--> 130\u001b[0m         snapshot \u001b[38;5;241m=\u001b[39m \u001b[38;5;28;43mself\u001b[39;49m\u001b[43m[\u001b[49m\u001b[38;5;28;43mself\u001b[39;49m\u001b[38;5;241;43m.\u001b[39;49m\u001b[43mt\u001b[49m\u001b[43m]\u001b[49m\n\u001b[0;32m    131\u001b[0m         \u001b[38;5;28mself\u001b[39m\u001b[38;5;241m.\u001b[39mt \u001b[38;5;241m=\u001b[39m \u001b[38;5;28mself\u001b[39m\u001b[38;5;241m.\u001b[39mt \u001b[38;5;241m+\u001b[39m \u001b[38;5;241m1\u001b[39m\n\u001b[0;32m    132\u001b[0m         \u001b[38;5;28;01mreturn\u001b[39;00m snapshot\n",
      "File \u001b[1;32m~\\AppData\\Local\\Packages\\PythonSoftwareFoundation.Python.3.11_qbz5n2kfra8p0\\LocalCache\\local-packages\\Python311\\site-packages\\torch_geometric_temporal\\signal\\dynamic_graph_temporal_signal.py:121\u001b[0m, in \u001b[0;36mDynamicGraphTemporalSignal.__getitem__\u001b[1;34m(self, time_index)\u001b[0m\n\u001b[0;32m    119\u001b[0m edge_index \u001b[38;5;241m=\u001b[39m \u001b[38;5;28mself\u001b[39m\u001b[38;5;241m.\u001b[39m_get_edge_index(time_index)\n\u001b[0;32m    120\u001b[0m edge_weight \u001b[38;5;241m=\u001b[39m \u001b[38;5;28mself\u001b[39m\u001b[38;5;241m.\u001b[39m_get_edge_weight(time_index)\n\u001b[1;32m--> 121\u001b[0m y \u001b[38;5;241m=\u001b[39m \u001b[38;5;28;43mself\u001b[39;49m\u001b[38;5;241;43m.\u001b[39;49m\u001b[43m_get_target\u001b[49m\u001b[43m(\u001b[49m\u001b[43mtime_index\u001b[49m\u001b[43m)\u001b[49m\n\u001b[0;32m    122\u001b[0m additional_features \u001b[38;5;241m=\u001b[39m \u001b[38;5;28mself\u001b[39m\u001b[38;5;241m.\u001b[39m_get_additional_features(time_index)\n\u001b[0;32m    124\u001b[0m snapshot \u001b[38;5;241m=\u001b[39m Data(x\u001b[38;5;241m=\u001b[39mx, edge_index\u001b[38;5;241m=\u001b[39medge_index, edge_attr\u001b[38;5;241m=\u001b[39medge_weight,\n\u001b[0;32m    125\u001b[0m                 y\u001b[38;5;241m=\u001b[39my, \u001b[38;5;241m*\u001b[39m\u001b[38;5;241m*\u001b[39madditional_features)\n",
      "File \u001b[1;32m~\\AppData\\Local\\Packages\\PythonSoftwareFoundation.Python.3.11_qbz5n2kfra8p0\\LocalCache\\local-packages\\Python311\\site-packages\\torch_geometric_temporal\\signal\\dynamic_graph_temporal_signal.py:89\u001b[0m, in \u001b[0;36mDynamicGraphTemporalSignal._get_target\u001b[1;34m(self, time_index)\u001b[0m\n\u001b[0;32m     87\u001b[0m     \u001b[38;5;28;01mreturn\u001b[39;00m \u001b[38;5;28mself\u001b[39m\u001b[38;5;241m.\u001b[39mtargets[time_index]\n\u001b[0;32m     88\u001b[0m \u001b[38;5;28;01melse\u001b[39;00m:\n\u001b[1;32m---> 89\u001b[0m     \u001b[38;5;28;01mif\u001b[39;00m \u001b[38;5;28;43mself\u001b[39;49m\u001b[38;5;241;43m.\u001b[39;49m\u001b[43mtargets\u001b[49m\u001b[43m[\u001b[49m\u001b[43mtime_index\u001b[49m\u001b[43m]\u001b[49m\u001b[38;5;241;43m.\u001b[39;49m\u001b[43mdtype\u001b[49m\u001b[38;5;241;43m.\u001b[39;49m\u001b[43mkind\u001b[49m \u001b[38;5;241m==\u001b[39m \u001b[38;5;124m\"\u001b[39m\u001b[38;5;124mi\u001b[39m\u001b[38;5;124m\"\u001b[39m:\n\u001b[0;32m     90\u001b[0m         \u001b[38;5;28;01mreturn\u001b[39;00m torch\u001b[38;5;241m.\u001b[39mLongTensor(\u001b[38;5;28mself\u001b[39m\u001b[38;5;241m.\u001b[39mtargets[time_index])\n\u001b[0;32m     91\u001b[0m     \u001b[38;5;28;01melif\u001b[39;00m \u001b[38;5;28mself\u001b[39m\u001b[38;5;241m.\u001b[39mtargets[time_index]\u001b[38;5;241m.\u001b[39mdtype\u001b[38;5;241m.\u001b[39mkind \u001b[38;5;241m==\u001b[39m \u001b[38;5;124m\"\u001b[39m\u001b[38;5;124mf\u001b[39m\u001b[38;5;124m\"\u001b[39m:\n",
      "\u001b[1;31mAttributeError\u001b[0m: 'torch.dtype' object has no attribute 'kind'"
     ]
    }
   ],
   "source": [
    "# Chuyển đổi edge_features_sequence thành danh sách các tensor\n",
    "edge_features_sequence = [\n",
    "    torch.tensor(edge_features, dtype=torch.float32) for edge_features in edge_features_sequence\n",
    "]\n",
    "\n",
    "# Tạo dataset DynamicGraphTemporalSignal\n",
    "dataset = DynamicGraphTemporalSignal(\n",
    "    edge_indices=[edge_index_torch] * len(edge_features_sequence),\n",
    "    edge_weights=edge_features_sequence,\n",
    "    features=[torch.tensor(node_features, dtype=torch.float32)] * len(edge_features_sequence),\n",
    "    targets=edge_features_sequence  # Dùng edge_features_sequence làm output\n",
    ")\n",
    "\n",
    "# Kiểm tra snapshot\n",
    "snapshot = next(iter(dataset))\n",
    "print(\"Edge Index:\\n\", snapshot.edge_index)\n",
    "print(\"Edge Weight:\\n\", snapshot.edge_weight)\n",
    "print(\"Node Features:\\n\", snapshot.x)\n",
    "print(\"Targets:\\n\", snapshot.y)"
   ]
  },
  {
   "cell_type": "code",
   "execution_count": null,
   "metadata": {},
   "outputs": [
    {
     "name": "stdout",
     "output_type": "stream",
     "text": [
      "s_node_id     0\n",
      "e_node_id     0\n",
      "segment_id    0\n",
      "dtype: int64\n",
      "set()\n"
     ]
    }
   ],
   "source": [
    "print(edge_index.isnull().sum())  # Kiểm tra giá trị thiếu\n",
    "print(set(edge_index['segment_id']) - set(los_pivot.index))  # Kiểm tra segment_id không khớp"
   ]
  },
  {
   "cell_type": "code",
   "execution_count": null,
   "metadata": {},
   "outputs": [],
   "source": [
    "for i, edge_features in enumerate(edge_features_sequence):\n",
    "    if not isinstance(edge_features, torch.Tensor):\n",
    "        print(f\"Snapshot {i} is not a tensor.\")\n",
    "    if torch.isnan(edge_features).any():\n",
    "        print(f\"Snapshot {i} contains NaN values.\")"
   ]
  },
  {
   "cell_type": "code",
   "execution_count": null,
   "metadata": {},
   "outputs": [
    {
     "name": "stdout",
     "output_type": "stream",
     "text": [
      "122\n",
      "122\n",
      "122\n"
     ]
    },
    {
     "name": "stderr",
     "output_type": "stream",
     "text": [
      "C:\\Users\\ASUS\\AppData\\Local\\Temp\\ipykernel_7052\\107659669.py:3: UserWarning: To copy construct from a tensor, it is recommended to use sourceTensor.clone().detach() or sourceTensor.clone().detach().requires_grad_(True), rather than torch.tensor(sourceTensor).\n",
      "  print(len([torch.tensor(node_features, dtype=torch.float32)] * len(edge_features_sequence)))  # Số lượng node features\n"
     ]
    }
   ],
   "source": [
    "print(len(edge_features_sequence))  # Số lượng snapshot\n",
    "print(len([edge_index_torch] * len(edge_features_sequence)))  # Số lượng edge_indices\n",
    "print(len([torch.tensor(node_features, dtype=torch.float32)] * len(edge_features_sequence)))  # Số lượng node features"
   ]
  },
  {
   "cell_type": "code",
   "execution_count": null,
   "metadata": {},
   "outputs": [
    {
     "name": "stdout",
     "output_type": "stream",
     "text": [
      "Missing segment IDs: set()\n"
     ]
    }
   ],
   "source": [
    "missing_segments = set(edge_index['segment_id']) - set(los_pivot.index)\n",
    "print(f\"Missing segment IDs: {missing_segments}\")"
   ]
  },
  {
   "cell_type": "code",
   "execution_count": null,
   "metadata": {},
   "outputs": [
    {
     "name": "stdout",
     "output_type": "stream",
     "text": [
      "Number of snapshots: 122\n",
      "Number of edge indices: 122\n",
      "Number of node features: 122\n"
     ]
    },
    {
     "name": "stderr",
     "output_type": "stream",
     "text": [
      "C:\\Users\\ASUS\\AppData\\Local\\Temp\\ipykernel_7052\\2850595234.py:3: UserWarning: To copy construct from a tensor, it is recommended to use sourceTensor.clone().detach() or sourceTensor.clone().detach().requires_grad_(True), rather than torch.tensor(sourceTensor).\n",
      "  print(f\"Number of node features: {len([torch.tensor(node_features, dtype=torch.float32)] * len(edge_features_sequence))}\")\n"
     ]
    }
   ],
   "source": [
    "print(f\"Number of snapshots: {len(edge_features_sequence)}\")\n",
    "print(f\"Number of edge indices: {len([edge_index_torch] * len(edge_features_sequence))}\")\n",
    "print(f\"Number of node features: {len([torch.tensor(node_features, dtype=torch.float32)] * len(edge_features_sequence))}\")"
   ]
  },
  {
   "cell_type": "code",
   "execution_count": null,
   "metadata": {},
   "outputs": [
    {
     "name": "stdout",
     "output_type": "stream",
     "text": [
      "date        2020-07-03  2020-07-04  2020-07-06  2020-07-11  2020-07-12  \\\n",
      "segment_id                                                               \n",
      "26                 0.0         0.0         0.0         0.0         0.0   \n",
      "33                 0.4         0.4         0.4         0.4         0.4   \n",
      "67                 0.2         0.2         0.2         0.2         0.2   \n",
      "70                 0.6         0.6         0.6         0.6         0.6   \n",
      "71                 0.8         0.8         0.8         0.8         0.8   \n",
      "\n",
      "date        2020-07-13  2020-07-15  2020-07-20  2020-07-25  2020-07-29  ...  \\\n",
      "segment_id                                                              ...   \n",
      "26                 0.0         0.0         0.0         0.0         0.0  ...   \n",
      "33                 0.4         0.4         0.4         0.4         0.4  ...   \n",
      "67                 0.2         0.2         0.2         0.2         0.2  ...   \n",
      "70                 0.6         0.6         0.6         0.6         0.6  ...   \n",
      "71                 0.8         0.8         0.8         0.8         0.8  ...   \n",
      "\n",
      "date        2021-03-30  2021-03-31  2021-04-05  2021-04-07  2021-04-14  \\\n",
      "segment_id                                                               \n",
      "26                 0.0         0.0         0.0         0.0         0.0   \n",
      "33                 0.6         0.6         0.6         0.6         0.6   \n",
      "67                 0.2         0.2         0.2         0.2         0.2   \n",
      "70                 0.8         0.8         0.8         0.8         0.8   \n",
      "71                 0.4         0.4         0.4         0.4         0.4   \n",
      "\n",
      "date        2021-04-15  2021-04-16  2021-04-19  2021-04-21  2021-04-22  \n",
      "segment_id                                                              \n",
      "26                 0.0         0.0         0.0         0.0         0.0  \n",
      "33                 0.6         0.6         0.6         0.6         0.6  \n",
      "67                 0.2         0.2         0.2         0.2         0.2  \n",
      "70                 0.8         0.8         0.8         0.8         0.8  \n",
      "71                 0.4         0.4         0.4         0.4         0.4  \n",
      "\n",
      "[5 rows x 122 columns]\n",
      "        s_node_id   e_node_id  segment_id\n",
      "13056  5769406275  5769406276       33923\n",
      "9598   2409410635  3771416347       24845\n",
      "23197  5772558121  5772558074       56816\n",
      "12978  2233730990  2299409160       33824\n",
      "5508    366383168  5243849435       15412\n"
     ]
    }
   ],
   "source": [
    "print(los_pivot.head())\n",
    "print(edge_index.head())"
   ]
  },
  {
   "cell_type": "code",
   "execution_count": null,
   "metadata": {},
   "outputs": [
    {
     "name": "stdout",
     "output_type": "stream",
     "text": [
      "Snapshot 0 type: <class 'torch.Tensor'>\n",
      "Snapshot 0 dtype: torch.float32\n",
      "Snapshot 1 type: <class 'torch.Tensor'>\n",
      "Snapshot 1 dtype: torch.float32\n",
      "Snapshot 2 type: <class 'torch.Tensor'>\n",
      "Snapshot 2 dtype: torch.float32\n",
      "Snapshot 3 type: <class 'torch.Tensor'>\n",
      "Snapshot 3 dtype: torch.float32\n",
      "Snapshot 4 type: <class 'torch.Tensor'>\n",
      "Snapshot 4 dtype: torch.float32\n",
      "Snapshot 5 type: <class 'torch.Tensor'>\n",
      "Snapshot 5 dtype: torch.float32\n",
      "Snapshot 6 type: <class 'torch.Tensor'>\n",
      "Snapshot 6 dtype: torch.float32\n",
      "Snapshot 7 type: <class 'torch.Tensor'>\n",
      "Snapshot 7 dtype: torch.float32\n",
      "Snapshot 8 type: <class 'torch.Tensor'>\n",
      "Snapshot 8 dtype: torch.float32\n",
      "Snapshot 9 type: <class 'torch.Tensor'>\n",
      "Snapshot 9 dtype: torch.float32\n",
      "Snapshot 10 type: <class 'torch.Tensor'>\n",
      "Snapshot 10 dtype: torch.float32\n",
      "Snapshot 11 type: <class 'torch.Tensor'>\n",
      "Snapshot 11 dtype: torch.float32\n",
      "Snapshot 12 type: <class 'torch.Tensor'>\n",
      "Snapshot 12 dtype: torch.float32\n",
      "Snapshot 13 type: <class 'torch.Tensor'>\n",
      "Snapshot 13 dtype: torch.float32\n",
      "Snapshot 14 type: <class 'torch.Tensor'>\n",
      "Snapshot 14 dtype: torch.float32\n",
      "Snapshot 15 type: <class 'torch.Tensor'>\n",
      "Snapshot 15 dtype: torch.float32\n",
      "Snapshot 16 type: <class 'torch.Tensor'>\n",
      "Snapshot 16 dtype: torch.float32\n",
      "Snapshot 17 type: <class 'torch.Tensor'>\n",
      "Snapshot 17 dtype: torch.float32\n",
      "Snapshot 18 type: <class 'torch.Tensor'>\n",
      "Snapshot 18 dtype: torch.float32\n",
      "Snapshot 19 type: <class 'torch.Tensor'>\n",
      "Snapshot 19 dtype: torch.float32\n",
      "Snapshot 20 type: <class 'torch.Tensor'>\n",
      "Snapshot 20 dtype: torch.float32\n",
      "Snapshot 21 type: <class 'torch.Tensor'>\n",
      "Snapshot 21 dtype: torch.float32\n",
      "Snapshot 22 type: <class 'torch.Tensor'>\n",
      "Snapshot 22 dtype: torch.float32\n",
      "Snapshot 23 type: <class 'torch.Tensor'>\n",
      "Snapshot 23 dtype: torch.float32\n",
      "Snapshot 24 type: <class 'torch.Tensor'>\n",
      "Snapshot 24 dtype: torch.float32\n",
      "Snapshot 25 type: <class 'torch.Tensor'>\n",
      "Snapshot 25 dtype: torch.float32\n",
      "Snapshot 26 type: <class 'torch.Tensor'>\n",
      "Snapshot 26 dtype: torch.float32\n",
      "Snapshot 27 type: <class 'torch.Tensor'>\n",
      "Snapshot 27 dtype: torch.float32\n",
      "Snapshot 28 type: <class 'torch.Tensor'>\n",
      "Snapshot 28 dtype: torch.float32\n",
      "Snapshot 29 type: <class 'torch.Tensor'>\n",
      "Snapshot 29 dtype: torch.float32\n",
      "Snapshot 30 type: <class 'torch.Tensor'>\n",
      "Snapshot 30 dtype: torch.float32\n",
      "Snapshot 31 type: <class 'torch.Tensor'>\n",
      "Snapshot 31 dtype: torch.float32\n",
      "Snapshot 32 type: <class 'torch.Tensor'>\n",
      "Snapshot 32 dtype: torch.float32\n",
      "Snapshot 33 type: <class 'torch.Tensor'>\n",
      "Snapshot 33 dtype: torch.float32\n",
      "Snapshot 34 type: <class 'torch.Tensor'>\n",
      "Snapshot 34 dtype: torch.float32\n",
      "Snapshot 35 type: <class 'torch.Tensor'>\n",
      "Snapshot 35 dtype: torch.float32\n",
      "Snapshot 36 type: <class 'torch.Tensor'>\n",
      "Snapshot 36 dtype: torch.float32\n",
      "Snapshot 37 type: <class 'torch.Tensor'>\n",
      "Snapshot 37 dtype: torch.float32\n",
      "Snapshot 38 type: <class 'torch.Tensor'>\n",
      "Snapshot 38 dtype: torch.float32\n",
      "Snapshot 39 type: <class 'torch.Tensor'>\n",
      "Snapshot 39 dtype: torch.float32\n",
      "Snapshot 40 type: <class 'torch.Tensor'>\n",
      "Snapshot 40 dtype: torch.float32\n",
      "Snapshot 41 type: <class 'torch.Tensor'>\n",
      "Snapshot 41 dtype: torch.float32\n",
      "Snapshot 42 type: <class 'torch.Tensor'>\n",
      "Snapshot 42 dtype: torch.float32\n",
      "Snapshot 43 type: <class 'torch.Tensor'>\n",
      "Snapshot 43 dtype: torch.float32\n",
      "Snapshot 44 type: <class 'torch.Tensor'>\n",
      "Snapshot 44 dtype: torch.float32\n",
      "Snapshot 45 type: <class 'torch.Tensor'>\n",
      "Snapshot 45 dtype: torch.float32\n",
      "Snapshot 46 type: <class 'torch.Tensor'>\n",
      "Snapshot 46 dtype: torch.float32\n",
      "Snapshot 47 type: <class 'torch.Tensor'>\n",
      "Snapshot 47 dtype: torch.float32\n",
      "Snapshot 48 type: <class 'torch.Tensor'>\n",
      "Snapshot 48 dtype: torch.float32\n",
      "Snapshot 49 type: <class 'torch.Tensor'>\n",
      "Snapshot 49 dtype: torch.float32\n",
      "Snapshot 50 type: <class 'torch.Tensor'>\n",
      "Snapshot 50 dtype: torch.float32\n",
      "Snapshot 51 type: <class 'torch.Tensor'>\n",
      "Snapshot 51 dtype: torch.float32\n",
      "Snapshot 52 type: <class 'torch.Tensor'>\n",
      "Snapshot 52 dtype: torch.float32\n",
      "Snapshot 53 type: <class 'torch.Tensor'>\n",
      "Snapshot 53 dtype: torch.float32\n",
      "Snapshot 54 type: <class 'torch.Tensor'>\n",
      "Snapshot 54 dtype: torch.float32\n",
      "Snapshot 55 type: <class 'torch.Tensor'>\n",
      "Snapshot 55 dtype: torch.float32\n",
      "Snapshot 56 type: <class 'torch.Tensor'>\n",
      "Snapshot 56 dtype: torch.float32\n",
      "Snapshot 57 type: <class 'torch.Tensor'>\n",
      "Snapshot 57 dtype: torch.float32\n",
      "Snapshot 58 type: <class 'torch.Tensor'>\n",
      "Snapshot 58 dtype: torch.float32\n",
      "Snapshot 59 type: <class 'torch.Tensor'>\n",
      "Snapshot 59 dtype: torch.float32\n",
      "Snapshot 60 type: <class 'torch.Tensor'>\n",
      "Snapshot 60 dtype: torch.float32\n",
      "Snapshot 61 type: <class 'torch.Tensor'>\n",
      "Snapshot 61 dtype: torch.float32\n",
      "Snapshot 62 type: <class 'torch.Tensor'>\n",
      "Snapshot 62 dtype: torch.float32\n",
      "Snapshot 63 type: <class 'torch.Tensor'>\n",
      "Snapshot 63 dtype: torch.float32\n",
      "Snapshot 64 type: <class 'torch.Tensor'>\n",
      "Snapshot 64 dtype: torch.float32\n",
      "Snapshot 65 type: <class 'torch.Tensor'>\n",
      "Snapshot 65 dtype: torch.float32\n",
      "Snapshot 66 type: <class 'torch.Tensor'>\n",
      "Snapshot 66 dtype: torch.float32\n",
      "Snapshot 67 type: <class 'torch.Tensor'>\n",
      "Snapshot 67 dtype: torch.float32\n",
      "Snapshot 68 type: <class 'torch.Tensor'>\n",
      "Snapshot 68 dtype: torch.float32\n",
      "Snapshot 69 type: <class 'torch.Tensor'>\n",
      "Snapshot 69 dtype: torch.float32\n",
      "Snapshot 70 type: <class 'torch.Tensor'>\n",
      "Snapshot 70 dtype: torch.float32\n",
      "Snapshot 71 type: <class 'torch.Tensor'>\n",
      "Snapshot 71 dtype: torch.float32\n",
      "Snapshot 72 type: <class 'torch.Tensor'>\n",
      "Snapshot 72 dtype: torch.float32\n",
      "Snapshot 73 type: <class 'torch.Tensor'>\n",
      "Snapshot 73 dtype: torch.float32\n",
      "Snapshot 74 type: <class 'torch.Tensor'>\n",
      "Snapshot 74 dtype: torch.float32\n",
      "Snapshot 75 type: <class 'torch.Tensor'>\n",
      "Snapshot 75 dtype: torch.float32\n",
      "Snapshot 76 type: <class 'torch.Tensor'>\n",
      "Snapshot 76 dtype: torch.float32\n",
      "Snapshot 77 type: <class 'torch.Tensor'>\n",
      "Snapshot 77 dtype: torch.float32\n",
      "Snapshot 78 type: <class 'torch.Tensor'>\n",
      "Snapshot 78 dtype: torch.float32\n",
      "Snapshot 79 type: <class 'torch.Tensor'>\n",
      "Snapshot 79 dtype: torch.float32\n",
      "Snapshot 80 type: <class 'torch.Tensor'>\n",
      "Snapshot 80 dtype: torch.float32\n",
      "Snapshot 81 type: <class 'torch.Tensor'>\n",
      "Snapshot 81 dtype: torch.float32\n",
      "Snapshot 82 type: <class 'torch.Tensor'>\n",
      "Snapshot 82 dtype: torch.float32\n",
      "Snapshot 83 type: <class 'torch.Tensor'>\n",
      "Snapshot 83 dtype: torch.float32\n",
      "Snapshot 84 type: <class 'torch.Tensor'>\n",
      "Snapshot 84 dtype: torch.float32\n",
      "Snapshot 85 type: <class 'torch.Tensor'>\n",
      "Snapshot 85 dtype: torch.float32\n",
      "Snapshot 86 type: <class 'torch.Tensor'>\n",
      "Snapshot 86 dtype: torch.float32\n",
      "Snapshot 87 type: <class 'torch.Tensor'>\n",
      "Snapshot 87 dtype: torch.float32\n",
      "Snapshot 88 type: <class 'torch.Tensor'>\n",
      "Snapshot 88 dtype: torch.float32\n",
      "Snapshot 89 type: <class 'torch.Tensor'>\n",
      "Snapshot 89 dtype: torch.float32\n",
      "Snapshot 90 type: <class 'torch.Tensor'>\n",
      "Snapshot 90 dtype: torch.float32\n",
      "Snapshot 91 type: <class 'torch.Tensor'>\n",
      "Snapshot 91 dtype: torch.float32\n",
      "Snapshot 92 type: <class 'torch.Tensor'>\n",
      "Snapshot 92 dtype: torch.float32\n",
      "Snapshot 93 type: <class 'torch.Tensor'>\n",
      "Snapshot 93 dtype: torch.float32\n",
      "Snapshot 94 type: <class 'torch.Tensor'>\n",
      "Snapshot 94 dtype: torch.float32\n",
      "Snapshot 95 type: <class 'torch.Tensor'>\n",
      "Snapshot 95 dtype: torch.float32\n",
      "Snapshot 96 type: <class 'torch.Tensor'>\n",
      "Snapshot 96 dtype: torch.float32\n",
      "Snapshot 97 type: <class 'torch.Tensor'>\n",
      "Snapshot 97 dtype: torch.float32\n",
      "Snapshot 98 type: <class 'torch.Tensor'>\n",
      "Snapshot 98 dtype: torch.float32\n",
      "Snapshot 99 type: <class 'torch.Tensor'>\n",
      "Snapshot 99 dtype: torch.float32\n",
      "Snapshot 100 type: <class 'torch.Tensor'>\n",
      "Snapshot 100 dtype: torch.float32\n",
      "Snapshot 101 type: <class 'torch.Tensor'>\n",
      "Snapshot 101 dtype: torch.float32\n",
      "Snapshot 102 type: <class 'torch.Tensor'>\n",
      "Snapshot 102 dtype: torch.float32\n",
      "Snapshot 103 type: <class 'torch.Tensor'>\n",
      "Snapshot 103 dtype: torch.float32\n",
      "Snapshot 104 type: <class 'torch.Tensor'>\n",
      "Snapshot 104 dtype: torch.float32\n",
      "Snapshot 105 type: <class 'torch.Tensor'>\n",
      "Snapshot 105 dtype: torch.float32\n",
      "Snapshot 106 type: <class 'torch.Tensor'>\n",
      "Snapshot 106 dtype: torch.float32\n",
      "Snapshot 107 type: <class 'torch.Tensor'>\n",
      "Snapshot 107 dtype: torch.float32\n",
      "Snapshot 108 type: <class 'torch.Tensor'>\n",
      "Snapshot 108 dtype: torch.float32\n",
      "Snapshot 109 type: <class 'torch.Tensor'>\n",
      "Snapshot 109 dtype: torch.float32\n",
      "Snapshot 110 type: <class 'torch.Tensor'>\n",
      "Snapshot 110 dtype: torch.float32\n",
      "Snapshot 111 type: <class 'torch.Tensor'>\n",
      "Snapshot 111 dtype: torch.float32\n",
      "Snapshot 112 type: <class 'torch.Tensor'>\n",
      "Snapshot 112 dtype: torch.float32\n",
      "Snapshot 113 type: <class 'torch.Tensor'>\n",
      "Snapshot 113 dtype: torch.float32\n",
      "Snapshot 114 type: <class 'torch.Tensor'>\n",
      "Snapshot 114 dtype: torch.float32\n",
      "Snapshot 115 type: <class 'torch.Tensor'>\n",
      "Snapshot 115 dtype: torch.float32\n",
      "Snapshot 116 type: <class 'torch.Tensor'>\n",
      "Snapshot 116 dtype: torch.float32\n",
      "Snapshot 117 type: <class 'torch.Tensor'>\n",
      "Snapshot 117 dtype: torch.float32\n",
      "Snapshot 118 type: <class 'torch.Tensor'>\n",
      "Snapshot 118 dtype: torch.float32\n",
      "Snapshot 119 type: <class 'torch.Tensor'>\n",
      "Snapshot 119 dtype: torch.float32\n",
      "Snapshot 120 type: <class 'torch.Tensor'>\n",
      "Snapshot 120 dtype: torch.float32\n",
      "Snapshot 121 type: <class 'torch.Tensor'>\n",
      "Snapshot 121 dtype: torch.float32\n"
     ]
    }
   ],
   "source": [
    "for i, edge_features in enumerate(edge_features_sequence):\n",
    "    print(f\"Snapshot {i} type: {type(edge_features)}\")\n",
    "    print(f\"Snapshot {i} dtype: {edge_features.dtype}\")"
   ]
  },
  {
   "cell_type": "code",
   "execution_count": null,
   "metadata": {},
   "outputs": [
    {
     "name": "stdout",
     "output_type": "stream",
     "text": [
      "Edge index type: <class 'torch.Tensor'>\n",
      "Edge index dtype: torch.int64\n"
     ]
    }
   ],
   "source": [
    "print(f\"Edge index type: {type(edge_index_torch)}\")\n",
    "print(f\"Edge index dtype: {edge_index_torch.dtype}\")"
   ]
  },
  {
   "cell_type": "code",
   "execution_count": null,
   "metadata": {},
   "outputs": [
    {
     "name": "stdout",
     "output_type": "stream",
     "text": [
      "Node features type: <class 'torch.Tensor'>\n"
     ]
    }
   ],
   "source": [
    "print(f\"Node features type: {type(node_features)}\")\n",
    "if isinstance(node_features, np.ndarray):\n",
    "    print(f\"Node features dtype: {node_features.dtype}\")"
   ]
  },
  {
   "cell_type": "code",
   "execution_count": null,
   "metadata": {},
   "outputs": [
    {
     "name": "stdout",
     "output_type": "stream",
     "text": [
      "torch.Size([10027, 1])\n",
      "torch.float32\n"
     ]
    }
   ],
   "source": [
    "print(edge_features_sequence[0].shape)\n",
    "print(edge_features_sequence[0].dtype)"
   ]
  },
  {
   "cell_type": "code",
   "execution_count": null,
   "metadata": {},
   "outputs": [
    {
     "name": "stdout",
     "output_type": "stream",
     "text": [
      "2.0.0+cpu\n",
      "0.54.0\n"
     ]
    }
   ],
   "source": [
    "import torch\n",
    "import torch_geometric_temporal\n",
    "print(torch.__version__)\n",
    "print(torch_geometric_temporal.__version__)"
   ]
  }
 ],
 "metadata": {
  "kernelspec": {
   "display_name": "Python 3",
   "language": "python",
   "name": "python3"
  },
  "language_info": {
   "codemirror_mode": {
    "name": "ipython",
    "version": 3
   },
   "file_extension": ".py",
   "mimetype": "text/x-python",
   "name": "python",
   "nbconvert_exporter": "python",
   "pygments_lexer": "ipython3",
   "version": "3.11.9"
  }
 },
 "nbformat": 4,
 "nbformat_minor": 2
}
